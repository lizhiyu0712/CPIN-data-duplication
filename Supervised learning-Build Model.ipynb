{
 "cells": [
  {
   "cell_type": "code",
   "execution_count": 1,
   "metadata": {},
   "outputs": [],
   "source": [
    "import pandas as pd\n",
    "from sklearn import metrics\n",
    "import matplotlib.pyplot as plt"
   ]
  },
  {
   "cell_type": "code",
   "execution_count": 2,
   "metadata": {},
   "outputs": [
    {
     "data": {
      "text/html": [
       "<div>\n",
       "<style scoped>\n",
       "    .dataframe tbody tr th:only-of-type {\n",
       "        vertical-align: middle;\n",
       "    }\n",
       "\n",
       "    .dataframe tbody tr th {\n",
       "        vertical-align: top;\n",
       "    }\n",
       "\n",
       "    .dataframe thead th {\n",
       "        text-align: right;\n",
       "    }\n",
       "</style>\n",
       "<table border=\"1\" class=\"dataframe\">\n",
       "  <thead>\n",
       "    <tr style=\"text-align: right;\">\n",
       "      <th></th>\n",
       "      <th>ID</th>\n",
       "      <th>Last Name</th>\n",
       "      <th>First Name</th>\n",
       "      <th>Date of Birth</th>\n",
       "      <th>Mother's Birth Last Name</th>\n",
       "      <th>Indigenous Identity</th>\n",
       "      <th>Religion</th>\n",
       "      <th>Ethnicity</th>\n",
       "      <th>Race</th>\n",
       "      <th>Place of Birth</th>\n",
       "      <th>Citizenship</th>\n",
       "      <th>Language (Mother Tongue)</th>\n",
       "      <th>cluster_id</th>\n",
       "    </tr>\n",
       "  </thead>\n",
       "  <tbody>\n",
       "    <tr>\n",
       "      <th>0</th>\n",
       "      <td>890c9866</td>\n",
       "      <td>Rael</td>\n",
       "      <td>Charles</td>\n",
       "      <td>04/30/2012</td>\n",
       "      <td>NaN</td>\n",
       "      <td>American Indian</td>\n",
       "      <td>NaN</td>\n",
       "      <td>American Indian</td>\n",
       "      <td>American Indian</td>\n",
       "      <td>NaN</td>\n",
       "      <td>Canada</td>\n",
       "      <td>NaN</td>\n",
       "      <td>10095</td>\n",
       "    </tr>\n",
       "    <tr>\n",
       "      <th>1</th>\n",
       "      <td>4b7c1c9f</td>\n",
       "      <td>Chase</td>\n",
       "      <td>Michael</td>\n",
       "      <td>04/01/2017</td>\n",
       "      <td>NaN</td>\n",
       "      <td>Native Hawaiian</td>\n",
       "      <td>NaN</td>\n",
       "      <td>Native Hawaiian</td>\n",
       "      <td>Native Hawaiian</td>\n",
       "      <td>NaN</td>\n",
       "      <td>Canada</td>\n",
       "      <td>English</td>\n",
       "      <td>9417</td>\n",
       "    </tr>\n",
       "    <tr>\n",
       "      <th>2</th>\n",
       "      <td>e056b34e</td>\n",
       "      <td>Mann</td>\n",
       "      <td>Ethan</td>\n",
       "      <td>08/07/2016</td>\n",
       "      <td>NaN</td>\n",
       "      <td>American Indian</td>\n",
       "      <td>NaN</td>\n",
       "      <td>American Indian</td>\n",
       "      <td>American Indian</td>\n",
       "      <td>NaN</td>\n",
       "      <td>Canada</td>\n",
       "      <td>Punjabi</td>\n",
       "      <td>10061</td>\n",
       "    </tr>\n",
       "    <tr>\n",
       "      <th>3</th>\n",
       "      <td>5d322502</td>\n",
       "      <td>Miller</td>\n",
       "      <td>Marian</td>\n",
       "      <td>04/08/2009</td>\n",
       "      <td>NaN</td>\n",
       "      <td>NaN</td>\n",
       "      <td>NaN</td>\n",
       "      <td>Black</td>\n",
       "      <td>Black</td>\n",
       "      <td>Canada</td>\n",
       "      <td>Canada</td>\n",
       "      <td>Spanish</td>\n",
       "      <td>7383</td>\n",
       "    </tr>\n",
       "    <tr>\n",
       "      <th>4</th>\n",
       "      <td>cb90c9e8</td>\n",
       "      <td>Jackson</td>\n",
       "      <td>James</td>\n",
       "      <td>09/17/2021</td>\n",
       "      <td>NaN</td>\n",
       "      <td>Native Hawaiian</td>\n",
       "      <td>NaN</td>\n",
       "      <td>Native Hawaiian</td>\n",
       "      <td>Native Hawaiian</td>\n",
       "      <td>NaN</td>\n",
       "      <td>Canada</td>\n",
       "      <td>English</td>\n",
       "      <td>1027</td>\n",
       "    </tr>\n",
       "    <tr>\n",
       "      <th>...</th>\n",
       "      <td>...</td>\n",
       "      <td>...</td>\n",
       "      <td>...</td>\n",
       "      <td>...</td>\n",
       "      <td>...</td>\n",
       "      <td>...</td>\n",
       "      <td>...</td>\n",
       "      <td>...</td>\n",
       "      <td>...</td>\n",
       "      <td>...</td>\n",
       "      <td>...</td>\n",
       "      <td>...</td>\n",
       "      <td>...</td>\n",
       "    </tr>\n",
       "    <tr>\n",
       "      <th>19996</th>\n",
       "      <td>a9a00e75</td>\n",
       "      <td>Wright</td>\n",
       "      <td>Carlos</td>\n",
       "      <td>12/14/2017</td>\n",
       "      <td>NaN</td>\n",
       "      <td>NaN</td>\n",
       "      <td>Eastern Orthodoxy</td>\n",
       "      <td>NaN</td>\n",
       "      <td>Black</td>\n",
       "      <td>NaN</td>\n",
       "      <td>NaN</td>\n",
       "      <td>Vietnamese</td>\n",
       "      <td>20295</td>\n",
       "    </tr>\n",
       "    <tr>\n",
       "      <th>19997</th>\n",
       "      <td>72752348</td>\n",
       "      <td>Wagner</td>\n",
       "      <td>Alice</td>\n",
       "      <td>11/05/2009</td>\n",
       "      <td>NaN</td>\n",
       "      <td>NaN</td>\n",
       "      <td>NaN</td>\n",
       "      <td>East Asian</td>\n",
       "      <td>East Asian</td>\n",
       "      <td>NaN</td>\n",
       "      <td>NaN</td>\n",
       "      <td>NaN</td>\n",
       "      <td>20296</td>\n",
       "    </tr>\n",
       "    <tr>\n",
       "      <th>19998</th>\n",
       "      <td>20f44412</td>\n",
       "      <td>Miller</td>\n",
       "      <td>Luciano</td>\n",
       "      <td>04/08/2009</td>\n",
       "      <td>NaN</td>\n",
       "      <td>Alaska Native</td>\n",
       "      <td>NaN</td>\n",
       "      <td>Alaska Native</td>\n",
       "      <td>Alaska Native</td>\n",
       "      <td>NaN</td>\n",
       "      <td>Canada</td>\n",
       "      <td>NaN</td>\n",
       "      <td>20297</td>\n",
       "    </tr>\n",
       "    <tr>\n",
       "      <th>19999</th>\n",
       "      <td>70311583</td>\n",
       "      <td>Avila</td>\n",
       "      <td>Steve</td>\n",
       "      <td>06/24/2014</td>\n",
       "      <td>NaN</td>\n",
       "      <td>NaN</td>\n",
       "      <td>NaN</td>\n",
       "      <td>NaN</td>\n",
       "      <td>White</td>\n",
       "      <td>NaN</td>\n",
       "      <td>Canada</td>\n",
       "      <td>NaN</td>\n",
       "      <td>20298</td>\n",
       "    </tr>\n",
       "    <tr>\n",
       "      <th>20000</th>\n",
       "      <td>dd469c5a</td>\n",
       "      <td>Bruce</td>\n",
       "      <td>Jessica</td>\n",
       "      <td>02/16/2020</td>\n",
       "      <td>NaN</td>\n",
       "      <td>Alaska Native</td>\n",
       "      <td>NaN</td>\n",
       "      <td>Alaska Native</td>\n",
       "      <td>Alaska Native</td>\n",
       "      <td>NaN</td>\n",
       "      <td>Canada</td>\n",
       "      <td>Cantonese</td>\n",
       "      <td>20299</td>\n",
       "    </tr>\n",
       "  </tbody>\n",
       "</table>\n",
       "<p>20001 rows × 13 columns</p>\n",
       "</div>"
      ],
      "text/plain": [
       "             ID Last Name First Name Date of Birth Mother's Birth Last Name  \\\n",
       "0      890c9866      Rael    Charles    04/30/2012                      NaN   \n",
       "1      4b7c1c9f     Chase    Michael    04/01/2017                      NaN   \n",
       "2      e056b34e      Mann      Ethan    08/07/2016                      NaN   \n",
       "3      5d322502    Miller     Marian    04/08/2009                      NaN   \n",
       "4      cb90c9e8   Jackson      James    09/17/2021                      NaN   \n",
       "...         ...       ...        ...           ...                      ...   \n",
       "19996  a9a00e75    Wright     Carlos    12/14/2017                      NaN   \n",
       "19997  72752348    Wagner      Alice    11/05/2009                      NaN   \n",
       "19998  20f44412    Miller    Luciano    04/08/2009                      NaN   \n",
       "19999  70311583     Avila      Steve    06/24/2014                      NaN   \n",
       "20000  dd469c5a     Bruce    Jessica    02/16/2020                      NaN   \n",
       "\n",
       "      Indigenous Identity           Religion        Ethnicity  \\\n",
       "0         American Indian                NaN  American Indian   \n",
       "1         Native Hawaiian                NaN  Native Hawaiian   \n",
       "2         American Indian                NaN  American Indian   \n",
       "3                     NaN                NaN            Black   \n",
       "4         Native Hawaiian                NaN  Native Hawaiian   \n",
       "...                   ...                ...              ...   \n",
       "19996                 NaN  Eastern Orthodoxy              NaN   \n",
       "19997                 NaN                NaN       East Asian   \n",
       "19998       Alaska Native                NaN    Alaska Native   \n",
       "19999                 NaN                NaN              NaN   \n",
       "20000       Alaska Native                NaN    Alaska Native   \n",
       "\n",
       "                  Race Place of Birth Citizenship Language (Mother Tongue)  \\\n",
       "0      American Indian            NaN      Canada                      NaN   \n",
       "1      Native Hawaiian            NaN      Canada                  English   \n",
       "2      American Indian            NaN      Canada                  Punjabi   \n",
       "3                Black         Canada      Canada                  Spanish   \n",
       "4      Native Hawaiian            NaN      Canada                  English   \n",
       "...                ...            ...         ...                      ...   \n",
       "19996            Black            NaN         NaN               Vietnamese   \n",
       "19997       East Asian            NaN         NaN                      NaN   \n",
       "19998    Alaska Native            NaN      Canada                      NaN   \n",
       "19999            White            NaN      Canada                      NaN   \n",
       "20000    Alaska Native            NaN      Canada                Cantonese   \n",
       "\n",
       "       cluster_id  \n",
       "0           10095  \n",
       "1            9417  \n",
       "2           10061  \n",
       "3            7383  \n",
       "4            1027  \n",
       "...           ...  \n",
       "19996       20295  \n",
       "19997       20296  \n",
       "19998       20297  \n",
       "19999       20298  \n",
       "20000       20299  \n",
       "\n",
       "[20001 rows x 13 columns]"
      ]
     },
     "execution_count": 2,
     "metadata": {},
     "output_type": "execute_result"
    }
   ],
   "source": [
    "main_data = pd.read_csv('C:/Users/ZZH/Desktop/final_main.csv')\n",
    "duplicate_data = pd.read_csv('C:/Users/ZZH/Desktop/duplicate.csv')\n",
    "main_data"
   ]
  },
  {
   "cell_type": "code",
   "execution_count": 3,
   "metadata": {},
   "outputs": [
    {
     "data": {
      "text/plain": [
       "ID                              0\n",
       "Last Name                       0\n",
       "First Name                      0\n",
       "Date of Birth                   0\n",
       "Mother's Birth Last Name    19100\n",
       "Indigenous Identity         10846\n",
       "Religion                    14437\n",
       "Ethnicity                    7605\n",
       "Race                            0\n",
       "Place of Birth              11950\n",
       "Citizenship                  3460\n",
       "Language (Mother Tongue)     9032\n",
       "cluster_id                      0\n",
       "dtype: int64"
      ]
     },
     "execution_count": 3,
     "metadata": {},
     "output_type": "execute_result"
    }
   ],
   "source": [
    "main_data.isna().sum()"
   ]
  },
  {
   "attachments": {},
   "cell_type": "markdown",
   "metadata": {},
   "source": [
    "drop the variables which amount of NA is larger than 10000 (50%)\n",
    "\n",
    "insight --- the contents of indigenous identity, ethnicity and race are the same."
   ]
  },
  {
   "cell_type": "code",
   "execution_count": 4,
   "metadata": {},
   "outputs": [
    {
     "data": {
      "text/plain": [
       "ID                        0\n",
       "Last_Name                 0\n",
       "First_Name                0\n",
       "Date_of_Birth             0\n",
       "Race                      0\n",
       "Citizenship               0\n",
       "Language_Mother_Tongue    0\n",
       "cluster_id                0\n",
       "dtype: int64"
      ]
     },
     "execution_count": 4,
     "metadata": {},
     "output_type": "execute_result"
    }
   ],
   "source": [
    "data = main_data.drop(main_data.columns[[4,5,6,7,9]], axis=1)\n",
    "data.fillna(value='None', inplace = True)\n",
    "data.columns = ['ID', 'Last_Name', 'First_Name', 'Date_of_Birth', 'Race', 'Citizenship','Language_Mother_Tongue', 'cluster_id']\n",
    "data.isna().sum()"
   ]
  },
  {
   "cell_type": "code",
   "execution_count": 5,
   "metadata": {},
   "outputs": [
    {
     "data": {
      "text/plain": [
       "ID                        0\n",
       "Last_Name                 0\n",
       "First_Name                0\n",
       "Race                      0\n",
       "Citizenship               0\n",
       "Language_Mother_Tongue    0\n",
       "cluster_id                0\n",
       "year                      0\n",
       "month                     0\n",
       "day                       0\n",
       "dtype: int64"
      ]
     },
     "execution_count": 5,
     "metadata": {},
     "output_type": "execute_result"
    }
   ],
   "source": [
    "# feature engineering on date\n",
    "data['Date_of_Birth'] = pd.to_datetime(data['Date_of_Birth'], format = '%m/%d/%Y')\n",
    "data['year'] = data['Date_of_Birth'].dt.year\n",
    "data['month'] = data['Date_of_Birth'].dt.month\n",
    "data['day'] = data['Date_of_Birth'].dt.day\n",
    "#data.drop(columns=['Date_of_Birth'], inplace = True)\n",
    "data.drop(columns=['Date_of_Birth'], inplace = True)\n",
    "data.isna().sum()\n"
   ]
  },
  {
   "cell_type": "code",
   "execution_count": 6,
   "metadata": {},
   "outputs": [
    {
     "data": {
      "text/plain": [
       "ID                        object\n",
       "Last_Name                 object\n",
       "First_Name                object\n",
       "Race                      object\n",
       "Citizenship               object\n",
       "Language_Mother_Tongue    object\n",
       "cluster_id                 int64\n",
       "year                       int64\n",
       "month                      int64\n",
       "day                        int64\n",
       "dtype: object"
      ]
     },
     "execution_count": 6,
     "metadata": {},
     "output_type": "execute_result"
    }
   ],
   "source": [
    "data.dtypes"
   ]
  },
  {
   "cell_type": "code",
   "execution_count": 7,
   "metadata": {},
   "outputs": [
    {
     "data": {
      "text/html": [
       "<div>\n",
       "<style scoped>\n",
       "    .dataframe tbody tr th:only-of-type {\n",
       "        vertical-align: middle;\n",
       "    }\n",
       "\n",
       "    .dataframe tbody tr th {\n",
       "        vertical-align: top;\n",
       "    }\n",
       "\n",
       "    .dataframe thead th {\n",
       "        text-align: right;\n",
       "    }\n",
       "</style>\n",
       "<table border=\"1\" class=\"dataframe\">\n",
       "  <thead>\n",
       "    <tr style=\"text-align: right;\">\n",
       "      <th></th>\n",
       "      <th>BoW</th>\n",
       "    </tr>\n",
       "  </thead>\n",
       "  <tbody>\n",
       "    <tr>\n",
       "      <th>0</th>\n",
       "      <td>890c9866,Rael,Charles,2012,4,30,American India...</td>\n",
       "    </tr>\n",
       "    <tr>\n",
       "      <th>1</th>\n",
       "      <td>4b7c1c9f,Chase,Michael,2017,4,1,Native Hawaiia...</td>\n",
       "    </tr>\n",
       "    <tr>\n",
       "      <th>2</th>\n",
       "      <td>e056b34e,Mann,Ethan,2016,8,7,American Indian,C...</td>\n",
       "    </tr>\n",
       "    <tr>\n",
       "      <th>3</th>\n",
       "      <td>5d322502,Miller,Marian,2009,4,8,Black,Canada,S...</td>\n",
       "    </tr>\n",
       "    <tr>\n",
       "      <th>4</th>\n",
       "      <td>cb90c9e8,Jackson,James,2021,9,17,Native Hawaii...</td>\n",
       "    </tr>\n",
       "    <tr>\n",
       "      <th>...</th>\n",
       "      <td>...</td>\n",
       "    </tr>\n",
       "    <tr>\n",
       "      <th>19996</th>\n",
       "      <td>a9a00e75,Wright,Carlos,2017,12,14,Black,None,V...</td>\n",
       "    </tr>\n",
       "    <tr>\n",
       "      <th>19997</th>\n",
       "      <td>72752348,Wagner,Alice,2009,11,5,East Asian,Non...</td>\n",
       "    </tr>\n",
       "    <tr>\n",
       "      <th>19998</th>\n",
       "      <td>20f44412,Miller,Luciano,2009,4,8,Alaska Native...</td>\n",
       "    </tr>\n",
       "    <tr>\n",
       "      <th>19999</th>\n",
       "      <td>70311583,Avila,Steve,2014,6,24,White,Canada,None</td>\n",
       "    </tr>\n",
       "    <tr>\n",
       "      <th>20000</th>\n",
       "      <td>dd469c5a,Bruce,Jessica,2020,2,16,Alaska Native...</td>\n",
       "    </tr>\n",
       "  </tbody>\n",
       "</table>\n",
       "<p>20001 rows × 1 columns</p>\n",
       "</div>"
      ],
      "text/plain": [
       "                                                     BoW\n",
       "0      890c9866,Rael,Charles,2012,4,30,American India...\n",
       "1      4b7c1c9f,Chase,Michael,2017,4,1,Native Hawaiia...\n",
       "2      e056b34e,Mann,Ethan,2016,8,7,American Indian,C...\n",
       "3      5d322502,Miller,Marian,2009,4,8,Black,Canada,S...\n",
       "4      cb90c9e8,Jackson,James,2021,9,17,Native Hawaii...\n",
       "...                                                  ...\n",
       "19996  a9a00e75,Wright,Carlos,2017,12,14,Black,None,V...\n",
       "19997  72752348,Wagner,Alice,2009,11,5,East Asian,Non...\n",
       "19998  20f44412,Miller,Luciano,2009,4,8,Alaska Native...\n",
       "19999   70311583,Avila,Steve,2014,6,24,White,Canada,None\n",
       "20000  dd469c5a,Bruce,Jessica,2020,2,16,Alaska Native...\n",
       "\n",
       "[20001 rows x 1 columns]"
      ]
     },
     "execution_count": 7,
     "metadata": {},
     "output_type": "execute_result"
    }
   ],
   "source": [
    "# combination all columns into one dataframe with 1 column \n",
    "# so that it is able to apply bagging of words\n",
    "row_input = data.columns.tolist()\n",
    "\n",
    "word_gallery = pd.DataFrame(data['ID'] + ',' + data['Last_Name'] + ',' + data['First_Name']\\\n",
    "                            + ',' + data['year'].astype(str) + ',' +\\\n",
    "                                data['month'].astype(str) + ',' + data['day'].astype(str) + ','+\\\n",
    "                                    data['Race'] + ','+ data['Citizenship'] + ',' \\\n",
    "                                    + data['Language_Mother_Tongue'], columns=['BoW'])\n",
    "word_gallery\n"
   ]
  },
  {
   "attachments": {},
   "cell_type": "markdown",
   "metadata": {},
   "source": [
    "assign train test set"
   ]
  },
  {
   "cell_type": "code",
   "execution_count": 8,
   "metadata": {},
   "outputs": [],
   "source": [
    "y_train = data['cluster_id']\n",
    "X_train = word_gallery"
   ]
  },
  {
   "cell_type": "code",
   "execution_count": 9,
   "metadata": {},
   "outputs": [
    {
     "data": {
      "text/plain": [
       "(20001, 30695)"
      ]
     },
     "execution_count": 9,
     "metadata": {},
     "output_type": "execute_result"
    }
   ],
   "source": [
    "# build bag of words\n",
    "from sklearn.feature_extraction.text import CountVectorizer\n",
    "\n",
    "vectorizer = CountVectorizer()\n",
    "\n",
    "# fit the bag of words model\n",
    "\n",
    "X_train_count = vectorizer.fit_transform(X_train['BoW'])\n",
    "X_train_count.shape"
   ]
  },
  {
   "cell_type": "code",
   "execution_count": 10,
   "metadata": {},
   "outputs": [
    {
     "data": {
      "text/plain": [
       "(20001, 30695)"
      ]
     },
     "execution_count": 10,
     "metadata": {},
     "output_type": "execute_result"
    }
   ],
   "source": [
    "from sklearn.feature_extraction.text import TfidfTransformer\n",
    "tfidf_transformer = TfidfTransformer()\n",
    "X_train_tfidf = tfidf_transformer.fit_transform(X_train_count)\n",
    "X_train_tfidf.shape"
   ]
  },
  {
   "cell_type": "code",
   "execution_count": 11,
   "metadata": {},
   "outputs": [
    {
     "data": {
      "text/html": [
       "<div>\n",
       "<style scoped>\n",
       "    .dataframe tbody tr th:only-of-type {\n",
       "        vertical-align: middle;\n",
       "    }\n",
       "\n",
       "    .dataframe tbody tr th {\n",
       "        vertical-align: top;\n",
       "    }\n",
       "\n",
       "    .dataframe thead th {\n",
       "        text-align: right;\n",
       "    }\n",
       "</style>\n",
       "<table border=\"1\" class=\"dataframe\">\n",
       "  <thead>\n",
       "    <tr style=\"text-align: right;\">\n",
       "      <th></th>\n",
       "      <th>ID</th>\n",
       "      <th>Last Name</th>\n",
       "      <th>First Name</th>\n",
       "      <th>Date of Birth</th>\n",
       "      <th>Mother's Birth Last Name</th>\n",
       "      <th>Indigenous Identity</th>\n",
       "      <th>Religion</th>\n",
       "      <th>Ethnicity</th>\n",
       "      <th>Race</th>\n",
       "      <th>Place of Birth</th>\n",
       "      <th>Citizenship</th>\n",
       "      <th>Language (Mother Tongue)</th>\n",
       "      <th>cluster_id</th>\n",
       "    </tr>\n",
       "  </thead>\n",
       "  <tbody>\n",
       "    <tr>\n",
       "      <th>0</th>\n",
       "      <td>73c2ab6a</td>\n",
       "      <td>NaN</td>\n",
       "      <td>Steven</td>\n",
       "      <td>01/13/2008</td>\n",
       "      <td>NaN</td>\n",
       "      <td>NaN</td>\n",
       "      <td>NaN</td>\n",
       "      <td>Indian</td>\n",
       "      <td>NaN</td>\n",
       "      <td>Canada</td>\n",
       "      <td>NaN</td>\n",
       "      <td>NaN</td>\n",
       "      <td>1026</td>\n",
       "    </tr>\n",
       "    <tr>\n",
       "      <th>1</th>\n",
       "      <td>488f1063</td>\n",
       "      <td>NaN</td>\n",
       "      <td>Dorothy</td>\n",
       "      <td>05/02/2012</td>\n",
       "      <td>NaN</td>\n",
       "      <td>NaN</td>\n",
       "      <td>Jewish</td>\n",
       "      <td>NaN</td>\n",
       "      <td>NaN</td>\n",
       "      <td>NaN</td>\n",
       "      <td>NaN</td>\n",
       "      <td>NaN</td>\n",
       "      <td>1025</td>\n",
       "    </tr>\n",
       "    <tr>\n",
       "      <th>2</th>\n",
       "      <td>331bea71</td>\n",
       "      <td>Yerian</td>\n",
       "      <td>Ellwood</td>\n",
       "      <td>08/18/2019</td>\n",
       "      <td>NaN</td>\n",
       "      <td>NaN</td>\n",
       "      <td>NaN</td>\n",
       "      <td>NaN</td>\n",
       "      <td>NaN</td>\n",
       "      <td>NaN</td>\n",
       "      <td>NaN</td>\n",
       "      <td>English</td>\n",
       "      <td>8465</td>\n",
       "    </tr>\n",
       "    <tr>\n",
       "      <th>3</th>\n",
       "      <td>ac3aaf9c</td>\n",
       "      <td>NaN</td>\n",
       "      <td>Robin</td>\n",
       "      <td>08/25/2013</td>\n",
       "      <td>NaN</td>\n",
       "      <td>NaN</td>\n",
       "      <td>NaN</td>\n",
       "      <td>Indian</td>\n",
       "      <td>NaN</td>\n",
       "      <td>Canada</td>\n",
       "      <td>NaN</td>\n",
       "      <td>English</td>\n",
       "      <td>1024</td>\n",
       "    </tr>\n",
       "    <tr>\n",
       "      <th>4</th>\n",
       "      <td>ae9c2ae4</td>\n",
       "      <td>NaN</td>\n",
       "      <td>Raymond</td>\n",
       "      <td>05/25/2017</td>\n",
       "      <td>NaN</td>\n",
       "      <td>NaN</td>\n",
       "      <td>Other Christianity</td>\n",
       "      <td>NaN</td>\n",
       "      <td>NaN</td>\n",
       "      <td>Canada</td>\n",
       "      <td>NaN</td>\n",
       "      <td>English</td>\n",
       "      <td>1023</td>\n",
       "    </tr>\n",
       "    <tr>\n",
       "      <th>...</th>\n",
       "      <td>...</td>\n",
       "      <td>...</td>\n",
       "      <td>...</td>\n",
       "      <td>...</td>\n",
       "      <td>...</td>\n",
       "      <td>...</td>\n",
       "      <td>...</td>\n",
       "      <td>...</td>\n",
       "      <td>...</td>\n",
       "      <td>...</td>\n",
       "      <td>...</td>\n",
       "      <td>...</td>\n",
       "      <td>...</td>\n",
       "    </tr>\n",
       "    <tr>\n",
       "      <th>10135</th>\n",
       "      <td>08606dd8</td>\n",
       "      <td>Avila</td>\n",
       "      <td>NaN</td>\n",
       "      <td>06/24/2014</td>\n",
       "      <td>NaN</td>\n",
       "      <td>NaN</td>\n",
       "      <td>NaN</td>\n",
       "      <td>NaN</td>\n",
       "      <td>NaN</td>\n",
       "      <td>NaN</td>\n",
       "      <td>NaN</td>\n",
       "      <td>NaN</td>\n",
       "      <td>1357</td>\n",
       "    </tr>\n",
       "    <tr>\n",
       "      <th>10136</th>\n",
       "      <td>8507e3f4</td>\n",
       "      <td>Fernandez</td>\n",
       "      <td>NaN</td>\n",
       "      <td>08/07/2015</td>\n",
       "      <td>NaN</td>\n",
       "      <td>NaN</td>\n",
       "      <td>NaN</td>\n",
       "      <td>NaN</td>\n",
       "      <td>NaN</td>\n",
       "      <td>NaN</td>\n",
       "      <td>NaN</td>\n",
       "      <td>NaN</td>\n",
       "      <td>1356</td>\n",
       "    </tr>\n",
       "    <tr>\n",
       "      <th>10137</th>\n",
       "      <td>d5285223</td>\n",
       "      <td>Mathews</td>\n",
       "      <td>NaN</td>\n",
       "      <td>02/28/2015</td>\n",
       "      <td>NaN</td>\n",
       "      <td>NaN</td>\n",
       "      <td>NaN</td>\n",
       "      <td>NaN</td>\n",
       "      <td>NaN</td>\n",
       "      <td>NaN</td>\n",
       "      <td>NaN</td>\n",
       "      <td>NaN</td>\n",
       "      <td>7859</td>\n",
       "    </tr>\n",
       "    <tr>\n",
       "      <th>10138</th>\n",
       "      <td>7157d300</td>\n",
       "      <td>Konty</td>\n",
       "      <td>NaN</td>\n",
       "      <td>12/15/2022</td>\n",
       "      <td>NaN</td>\n",
       "      <td>NaN</td>\n",
       "      <td>NaN</td>\n",
       "      <td>NaN</td>\n",
       "      <td>NaN</td>\n",
       "      <td>NaN</td>\n",
       "      <td>NaN</td>\n",
       "      <td>NaN</td>\n",
       "      <td>1355</td>\n",
       "    </tr>\n",
       "    <tr>\n",
       "      <th>10139</th>\n",
       "      <td>8f88ce49</td>\n",
       "      <td>Knowlton</td>\n",
       "      <td>NaN</td>\n",
       "      <td>10/24/2018</td>\n",
       "      <td>NaN</td>\n",
       "      <td>NaN</td>\n",
       "      <td>NaN</td>\n",
       "      <td>NaN</td>\n",
       "      <td>NaN</td>\n",
       "      <td>NaN</td>\n",
       "      <td>NaN</td>\n",
       "      <td>NaN</td>\n",
       "      <td>1354</td>\n",
       "    </tr>\n",
       "  </tbody>\n",
       "</table>\n",
       "<p>10140 rows × 13 columns</p>\n",
       "</div>"
      ],
      "text/plain": [
       "             ID  Last Name First Name Date of Birth Mother's Birth Last Name  \\\n",
       "0      73c2ab6a        NaN     Steven    01/13/2008                      NaN   \n",
       "1      488f1063        NaN    Dorothy    05/02/2012                      NaN   \n",
       "2      331bea71     Yerian    Ellwood    08/18/2019                      NaN   \n",
       "3      ac3aaf9c        NaN      Robin    08/25/2013                      NaN   \n",
       "4      ae9c2ae4        NaN    Raymond    05/25/2017                      NaN   \n",
       "...         ...        ...        ...           ...                      ...   \n",
       "10135  08606dd8      Avila        NaN    06/24/2014                      NaN   \n",
       "10136  8507e3f4  Fernandez        NaN    08/07/2015                      NaN   \n",
       "10137  d5285223    Mathews        NaN    02/28/2015                      NaN   \n",
       "10138  7157d300      Konty        NaN    12/15/2022                      NaN   \n",
       "10139  8f88ce49   Knowlton        NaN    10/24/2018                      NaN   \n",
       "\n",
       "      Indigenous Identity            Religion Ethnicity  Race Place of Birth  \\\n",
       "0                     NaN                 NaN    Indian   NaN         Canada   \n",
       "1                     NaN              Jewish       NaN   NaN            NaN   \n",
       "2                     NaN                 NaN       NaN   NaN            NaN   \n",
       "3                     NaN                 NaN    Indian   NaN         Canada   \n",
       "4                     NaN  Other Christianity       NaN   NaN         Canada   \n",
       "...                   ...                 ...       ...   ...            ...   \n",
       "10135                 NaN                 NaN       NaN   NaN            NaN   \n",
       "10136                 NaN                 NaN       NaN   NaN            NaN   \n",
       "10137                 NaN                 NaN       NaN   NaN            NaN   \n",
       "10138                 NaN                 NaN       NaN   NaN            NaN   \n",
       "10139                 NaN                 NaN       NaN   NaN            NaN   \n",
       "\n",
       "      Citizenship Language (Mother Tongue)  cluster_id  \n",
       "0             NaN                      NaN        1026  \n",
       "1             NaN                      NaN        1025  \n",
       "2             NaN                  English        8465  \n",
       "3             NaN                  English        1024  \n",
       "4             NaN                  English        1023  \n",
       "...           ...                      ...         ...  \n",
       "10135         NaN                      NaN        1357  \n",
       "10136         NaN                      NaN        1356  \n",
       "10137         NaN                      NaN        7859  \n",
       "10138         NaN                      NaN        1355  \n",
       "10139         NaN                      NaN        1354  \n",
       "\n",
       "[10140 rows x 13 columns]"
      ]
     },
     "execution_count": 11,
     "metadata": {},
     "output_type": "execute_result"
    }
   ],
   "source": [
    "# data preprocessing on duplicate data\n",
    "\n",
    "duplicate_data"
   ]
  },
  {
   "cell_type": "code",
   "execution_count": 12,
   "metadata": {},
   "outputs": [
    {
     "data": {
      "text/plain": [
       "ID                        0\n",
       "Last_Name                 0\n",
       "First_Name                0\n",
       "Date_of_Birth             0\n",
       "Race                      0\n",
       "Citizenship               0\n",
       "Language_Mother_Tongue    0\n",
       "dtype: int64"
      ]
     },
     "execution_count": 12,
     "metadata": {},
     "output_type": "execute_result"
    }
   ],
   "source": [
    "ddata = duplicate_data.drop(duplicate_data.columns[[4,5,6,7,9,12]], axis=1)\n",
    "ddata.fillna(value='None', inplace = True)\n",
    "ddata.columns = ['ID', 'Last_Name', 'First_Name', 'Date_of_Birth', 'Race', 'Citizenship',\\\n",
    "                 'Language_Mother_Tongue']\n",
    "ddata.isna().sum()"
   ]
  },
  {
   "cell_type": "code",
   "execution_count": 13,
   "metadata": {},
   "outputs": [
    {
     "name": "stdout",
     "output_type": "stream",
     "text": [
      "<class 'pandas.core.frame.DataFrame'>\n",
      "RangeIndex: 10140 entries, 0 to 10139\n",
      "Data columns (total 10 columns):\n",
      " #   Column                  Non-Null Count  Dtype         \n",
      "---  ------                  --------------  -----         \n",
      " 0   ID                      10140 non-null  object        \n",
      " 1   Last_Name               10140 non-null  object        \n",
      " 2   First_Name              10140 non-null  object        \n",
      " 3   Date_of_Birth           10140 non-null  datetime64[ns]\n",
      " 4   Race                    10140 non-null  object        \n",
      " 5   Citizenship             10140 non-null  object        \n",
      " 6   Language_Mother_Tongue  10140 non-null  object        \n",
      " 7   year                    10140 non-null  int64         \n",
      " 8   month                   10140 non-null  int64         \n",
      " 9   day                     10140 non-null  int64         \n",
      "dtypes: datetime64[ns](1), int64(3), object(6)\n",
      "memory usage: 792.3+ KB\n"
     ]
    }
   ],
   "source": [
    "# feature engineering on date\n",
    "ddata['Date_of_Birth'] = pd.to_datetime(ddata['Date_of_Birth'], format = '%m/%d/%Y')\n",
    "ddata['year'] = ddata['Date_of_Birth'].dt.year\n",
    "ddata['month'] = ddata['Date_of_Birth'].dt.month\n",
    "ddata['day'] = ddata['Date_of_Birth'].dt.day\n",
    "ddata.info()\n",
    "\n"
   ]
  },
  {
   "cell_type": "code",
   "execution_count": 14,
   "metadata": {},
   "outputs": [],
   "source": [
    "word_bag = pd.DataFrame(ddata['ID'].astype(str) + ',' + ddata['Last_Name'].astype(str) +\\\n",
    "                              ',' + ddata['First_Name'].astype(str) +\\\n",
    "                              ',' + ddata['year'].astype(str) + ',' + ddata['month'].astype(str) +\\\n",
    "                                  ',' + ddata['day'].astype(str) + ','+\\\n",
    "                                      ddata['Race'].astype(str) + ','+\\\n",
    "                                      ddata['Citizenship'].astype(str) + ',' +\\\n",
    "                                          ddata['Language_Mother_Tongue'].astype(str),\\\n",
    "                                          columns=['BoW'])"
   ]
  },
  {
   "cell_type": "code",
   "execution_count": 15,
   "metadata": {},
   "outputs": [
    {
     "data": {
      "text/plain": [
       "(10140, 30695)"
      ]
     },
     "execution_count": 15,
     "metadata": {},
     "output_type": "execute_result"
    }
   ],
   "source": [
    "X_test_count = vectorizer.transform(word_bag['BoW'])\n",
    "X_test_count.shape\n",
    "X_test_tfidf = tfidf_transformer.transform(X_test_count)\n",
    "X_test_tfidf.shape"
   ]
  },
  {
   "cell_type": "code",
   "execution_count": 33,
   "metadata": {},
   "outputs": [
    {
     "data": {
      "text/html": [
       "<div>\n",
       "<style scoped>\n",
       "    .dataframe tbody tr th:only-of-type {\n",
       "        vertical-align: middle;\n",
       "    }\n",
       "\n",
       "    .dataframe tbody tr th {\n",
       "        vertical-align: top;\n",
       "    }\n",
       "\n",
       "    .dataframe thead th {\n",
       "        text-align: right;\n",
       "    }\n",
       "</style>\n",
       "<table border=\"1\" class=\"dataframe\">\n",
       "  <thead>\n",
       "    <tr style=\"text-align: right;\">\n",
       "      <th></th>\n",
       "      <th>ID</th>\n",
       "      <th>Last Name</th>\n",
       "      <th>First Name</th>\n",
       "      <th>Date of Birth</th>\n",
       "      <th>Mother's Birth Last Name</th>\n",
       "      <th>Indigenous Identity</th>\n",
       "      <th>Religion</th>\n",
       "      <th>Ethnicity</th>\n",
       "      <th>Race</th>\n",
       "      <th>Place of Birth</th>\n",
       "      <th>Citizenship</th>\n",
       "      <th>Language (Mother Tongue)</th>\n",
       "      <th>cluster_id</th>\n",
       "    </tr>\n",
       "  </thead>\n",
       "  <tbody>\n",
       "    <tr>\n",
       "      <th>1594</th>\n",
       "      <td>db41c6a1</td>\n",
       "      <td>NaN</td>\n",
       "      <td>Camilla</td>\n",
       "      <td>04/29/2022</td>\n",
       "      <td>NaN</td>\n",
       "      <td>NaN</td>\n",
       "      <td>NaN</td>\n",
       "      <td>Native Hawaiian</td>\n",
       "      <td>NaN</td>\n",
       "      <td>NaN</td>\n",
       "      <td>NaN</td>\n",
       "      <td>NaN</td>\n",
       "      <td>0</td>\n",
       "    </tr>\n",
       "    <tr>\n",
       "      <th>1593</th>\n",
       "      <td>dde408f0</td>\n",
       "      <td>NaN</td>\n",
       "      <td>Yolanda</td>\n",
       "      <td>05/15/2018</td>\n",
       "      <td>NaN</td>\n",
       "      <td>NaN</td>\n",
       "      <td>NaN</td>\n",
       "      <td>NaN</td>\n",
       "      <td>NaN</td>\n",
       "      <td>Canada</td>\n",
       "      <td>NaN</td>\n",
       "      <td>Tagalog</td>\n",
       "      <td>1</td>\n",
       "    </tr>\n",
       "    <tr>\n",
       "      <th>1592</th>\n",
       "      <td>4e82ee4a</td>\n",
       "      <td>NaN</td>\n",
       "      <td>Marion</td>\n",
       "      <td>08/28/2022</td>\n",
       "      <td>NaN</td>\n",
       "      <td>NaN</td>\n",
       "      <td>Pentecostalism and other Charismatic</td>\n",
       "      <td>NaN</td>\n",
       "      <td>NaN</td>\n",
       "      <td>Canada</td>\n",
       "      <td>NaN</td>\n",
       "      <td>Portuguese</td>\n",
       "      <td>2</td>\n",
       "    </tr>\n",
       "    <tr>\n",
       "      <th>1590</th>\n",
       "      <td>3eef0d37</td>\n",
       "      <td>NaN</td>\n",
       "      <td>Jesse</td>\n",
       "      <td>06/13/2016</td>\n",
       "      <td>NaN</td>\n",
       "      <td>NaN</td>\n",
       "      <td>NaN</td>\n",
       "      <td>Middle Easterner</td>\n",
       "      <td>NaN</td>\n",
       "      <td>Canada</td>\n",
       "      <td>NaN</td>\n",
       "      <td>NaN</td>\n",
       "      <td>3</td>\n",
       "    </tr>\n",
       "    <tr>\n",
       "      <th>1589</th>\n",
       "      <td>b2bd862f</td>\n",
       "      <td>NaN</td>\n",
       "      <td>Jean</td>\n",
       "      <td>07/09/2012</td>\n",
       "      <td>NaN</td>\n",
       "      <td>NaN</td>\n",
       "      <td>Judaism</td>\n",
       "      <td>NaN</td>\n",
       "      <td>NaN</td>\n",
       "      <td>NaN</td>\n",
       "      <td>NaN</td>\n",
       "      <td>Tagalog</td>\n",
       "      <td>4</td>\n",
       "    </tr>\n",
       "    <tr>\n",
       "      <th>...</th>\n",
       "      <td>...</td>\n",
       "      <td>...</td>\n",
       "      <td>...</td>\n",
       "      <td>...</td>\n",
       "      <td>...</td>\n",
       "      <td>...</td>\n",
       "      <td>...</td>\n",
       "      <td>...</td>\n",
       "      <td>...</td>\n",
       "      <td>...</td>\n",
       "      <td>...</td>\n",
       "      <td>...</td>\n",
       "      <td>...</td>\n",
       "    </tr>\n",
       "    <tr>\n",
       "      <th>7614</th>\n",
       "      <td>4491c51e</td>\n",
       "      <td>Ohlsen</td>\n",
       "      <td>Gae</td>\n",
       "      <td>08/15/2015</td>\n",
       "      <td>NaN</td>\n",
       "      <td>NaN</td>\n",
       "      <td>NaN</td>\n",
       "      <td>NaN</td>\n",
       "      <td>NaN</td>\n",
       "      <td>NaN</td>\n",
       "      <td>NaN</td>\n",
       "      <td>NaN</td>\n",
       "      <td>10135</td>\n",
       "    </tr>\n",
       "    <tr>\n",
       "      <th>2532</th>\n",
       "      <td>23d9c5d9</td>\n",
       "      <td>Pty</td>\n",
       "      <td>Michele</td>\n",
       "      <td>08/07/2017</td>\n",
       "      <td>NaN</td>\n",
       "      <td>NaN</td>\n",
       "      <td>NaN</td>\n",
       "      <td>NaN</td>\n",
       "      <td>NaN</td>\n",
       "      <td>NaN</td>\n",
       "      <td>NaN</td>\n",
       "      <td>NaN</td>\n",
       "      <td>10136</td>\n",
       "    </tr>\n",
       "    <tr>\n",
       "      <th>8019</th>\n",
       "      <td>8cef31c8</td>\n",
       "      <td>Preiss</td>\n",
       "      <td>Baab</td>\n",
       "      <td>06/08/2022</td>\n",
       "      <td>NaN</td>\n",
       "      <td>NaN</td>\n",
       "      <td>NaN</td>\n",
       "      <td>NaN</td>\n",
       "      <td>NaN</td>\n",
       "      <td>NaN</td>\n",
       "      <td>NaN</td>\n",
       "      <td>NaN</td>\n",
       "      <td>10137</td>\n",
       "    </tr>\n",
       "    <tr>\n",
       "      <th>4328</th>\n",
       "      <td>a2363db8</td>\n",
       "      <td>Alan</td>\n",
       "      <td>Giard</td>\n",
       "      <td>04/24/2020</td>\n",
       "      <td>NaN</td>\n",
       "      <td>NaN</td>\n",
       "      <td>NaN</td>\n",
       "      <td>NaN</td>\n",
       "      <td>NaN</td>\n",
       "      <td>NaN</td>\n",
       "      <td>NaN</td>\n",
       "      <td>NaN</td>\n",
       "      <td>10138</td>\n",
       "    </tr>\n",
       "    <tr>\n",
       "      <th>8137</th>\n",
       "      <td>e5cb00ec</td>\n",
       "      <td>Preiss</td>\n",
       "      <td>Gym</td>\n",
       "      <td>11/29/2011</td>\n",
       "      <td>NaN</td>\n",
       "      <td>NaN</td>\n",
       "      <td>NaN</td>\n",
       "      <td>NaN</td>\n",
       "      <td>NaN</td>\n",
       "      <td>NaN</td>\n",
       "      <td>NaN</td>\n",
       "      <td>NaN</td>\n",
       "      <td>10139</td>\n",
       "    </tr>\n",
       "  </tbody>\n",
       "</table>\n",
       "<p>10140 rows × 13 columns</p>\n",
       "</div>"
      ],
      "text/plain": [
       "            ID Last Name First Name Date of Birth Mother's Birth Last Name  \\\n",
       "1594  db41c6a1       NaN    Camilla    04/29/2022                      NaN   \n",
       "1593  dde408f0       NaN    Yolanda    05/15/2018                      NaN   \n",
       "1592  4e82ee4a       NaN     Marion    08/28/2022                      NaN   \n",
       "1590  3eef0d37       NaN      Jesse    06/13/2016                      NaN   \n",
       "1589  b2bd862f       NaN       Jean    07/09/2012                      NaN   \n",
       "...        ...       ...        ...           ...                      ...   \n",
       "7614  4491c51e    Ohlsen        Gae    08/15/2015                      NaN   \n",
       "2532  23d9c5d9       Pty    Michele    08/07/2017                      NaN   \n",
       "8019  8cef31c8    Preiss       Baab    06/08/2022                      NaN   \n",
       "4328  a2363db8      Alan      Giard    04/24/2020                      NaN   \n",
       "8137  e5cb00ec    Preiss        Gym    11/29/2011                      NaN   \n",
       "\n",
       "     Indigenous Identity                              Religion  \\\n",
       "1594                 NaN                                   NaN   \n",
       "1593                 NaN                                   NaN   \n",
       "1592                 NaN  Pentecostalism and other Charismatic   \n",
       "1590                 NaN                                   NaN   \n",
       "1589                 NaN                               Judaism   \n",
       "...                  ...                                   ...   \n",
       "7614                 NaN                                   NaN   \n",
       "2532                 NaN                                   NaN   \n",
       "8019                 NaN                                   NaN   \n",
       "4328                 NaN                                   NaN   \n",
       "8137                 NaN                                   NaN   \n",
       "\n",
       "             Ethnicity  Race Place of Birth Citizenship  \\\n",
       "1594   Native Hawaiian   NaN            NaN         NaN   \n",
       "1593               NaN   NaN         Canada         NaN   \n",
       "1592               NaN   NaN         Canada         NaN   \n",
       "1590  Middle Easterner   NaN         Canada         NaN   \n",
       "1589               NaN   NaN            NaN         NaN   \n",
       "...                ...   ...            ...         ...   \n",
       "7614               NaN   NaN            NaN         NaN   \n",
       "2532               NaN   NaN            NaN         NaN   \n",
       "8019               NaN   NaN            NaN         NaN   \n",
       "4328               NaN   NaN            NaN         NaN   \n",
       "8137               NaN   NaN            NaN         NaN   \n",
       "\n",
       "     Language (Mother Tongue)  cluster_id  \n",
       "1594                      NaN           0  \n",
       "1593                  Tagalog           1  \n",
       "1592               Portuguese           2  \n",
       "1590                      NaN           3  \n",
       "1589                  Tagalog           4  \n",
       "...                       ...         ...  \n",
       "7614                      NaN       10135  \n",
       "2532                      NaN       10136  \n",
       "8019                      NaN       10137  \n",
       "4328                      NaN       10138  \n",
       "8137                      NaN       10139  \n",
       "\n",
       "[10140 rows x 13 columns]"
      ]
     },
     "execution_count": 33,
     "metadata": {},
     "output_type": "execute_result"
    }
   ],
   "source": [
    "duplicate_data.sort_values(['cluster_id'])"
   ]
  },
  {
   "cell_type": "code",
   "execution_count": 16,
   "metadata": {},
   "outputs": [],
   "source": [
    "y_test = duplicate_data['cluster_id']"
   ]
  },
  {
   "cell_type": "code",
   "execution_count": 34,
   "metadata": {},
   "outputs": [
    {
     "ename": "MemoryError",
     "evalue": "",
     "output_type": "error",
     "traceback": [
      "\u001b[1;31m---------------------------------------------------------------------------\u001b[0m",
      "\u001b[1;31mMemoryError\u001b[0m                               Traceback (most recent call last)",
      "\u001b[1;32m~\\AppData\\Local\\Temp\\ipykernel_32376\\3408521049.py\u001b[0m in \u001b[0;36m<module>\u001b[1;34m\u001b[0m\n\u001b[0;32m      1\u001b[0m \u001b[1;32mfrom\u001b[0m \u001b[0msklearn\u001b[0m\u001b[1;33m.\u001b[0m\u001b[0mlinear_model\u001b[0m \u001b[1;32mimport\u001b[0m \u001b[0mLogisticRegression\u001b[0m\u001b[1;33m\u001b[0m\u001b[1;33m\u001b[0m\u001b[0m\n\u001b[1;32m----> 2\u001b[1;33m \u001b[0mlr\u001b[0m \u001b[1;33m=\u001b[0m \u001b[0mLogisticRegression\u001b[0m\u001b[1;33m(\u001b[0m\u001b[0mmulti_class\u001b[0m\u001b[1;33m=\u001b[0m\u001b[1;34m'multinomial'\u001b[0m\u001b[1;33m)\u001b[0m\u001b[1;33m.\u001b[0m\u001b[0mfit\u001b[0m\u001b[1;33m(\u001b[0m\u001b[0mX_train_tfidf\u001b[0m\u001b[1;33m,\u001b[0m \u001b[0my_train\u001b[0m\u001b[1;33m)\u001b[0m\u001b[1;33m\u001b[0m\u001b[1;33m\u001b[0m\u001b[0m\n\u001b[0m\u001b[0;32m      3\u001b[0m \u001b[0mpred2\u001b[0m \u001b[1;33m=\u001b[0m \u001b[0mlr\u001b[0m\u001b[1;33m.\u001b[0m\u001b[0mpredict\u001b[0m\u001b[1;33m(\u001b[0m\u001b[0mX_test_tfidf\u001b[0m\u001b[1;33m)\u001b[0m\u001b[1;33m\u001b[0m\u001b[1;33m\u001b[0m\u001b[0m\n\u001b[0;32m      4\u001b[0m \u001b[0maccuracy2\u001b[0m \u001b[1;33m=\u001b[0m \u001b[0mmetrics\u001b[0m\u001b[1;33m.\u001b[0m\u001b[0maccuracy_score\u001b[0m\u001b[1;33m(\u001b[0m\u001b[0my_test\u001b[0m\u001b[1;33m,\u001b[0m \u001b[0mpred2\u001b[0m\u001b[1;33m)\u001b[0m\u001b[1;33m\u001b[0m\u001b[1;33m\u001b[0m\u001b[0m\n\u001b[0;32m      5\u001b[0m \u001b[0mprint\u001b[0m\u001b[1;33m(\u001b[0m\u001b[0maccuracy2\u001b[0m\u001b[1;33m)\u001b[0m\u001b[1;33m\u001b[0m\u001b[1;33m\u001b[0m\u001b[0m\n",
      "\u001b[1;32mc:\\Users\\ZZH\\anaconda3\\lib\\site-packages\\sklearn\\linear_model\\_logistic.py\u001b[0m in \u001b[0;36mfit\u001b[1;34m(self, X, y, sample_weight)\u001b[0m\n\u001b[0;32m   1587\u001b[0m         \u001b[1;32melse\u001b[0m\u001b[1;33m:\u001b[0m\u001b[1;33m\u001b[0m\u001b[1;33m\u001b[0m\u001b[0m\n\u001b[0;32m   1588\u001b[0m             \u001b[0mprefer\u001b[0m \u001b[1;33m=\u001b[0m \u001b[1;34m\"processes\"\u001b[0m\u001b[1;33m\u001b[0m\u001b[1;33m\u001b[0m\u001b[0m\n\u001b[1;32m-> 1589\u001b[1;33m         fold_coefs_ = Parallel(\n\u001b[0m\u001b[0;32m   1590\u001b[0m             \u001b[0mn_jobs\u001b[0m\u001b[1;33m=\u001b[0m\u001b[0mself\u001b[0m\u001b[1;33m.\u001b[0m\u001b[0mn_jobs\u001b[0m\u001b[1;33m,\u001b[0m\u001b[1;33m\u001b[0m\u001b[1;33m\u001b[0m\u001b[0m\n\u001b[0;32m   1591\u001b[0m             \u001b[0mverbose\u001b[0m\u001b[1;33m=\u001b[0m\u001b[0mself\u001b[0m\u001b[1;33m.\u001b[0m\u001b[0mverbose\u001b[0m\u001b[1;33m,\u001b[0m\u001b[1;33m\u001b[0m\u001b[1;33m\u001b[0m\u001b[0m\n",
      "\u001b[1;32mc:\\Users\\ZZH\\anaconda3\\lib\\site-packages\\joblib\\parallel.py\u001b[0m in \u001b[0;36m__call__\u001b[1;34m(self, iterable)\u001b[0m\n\u001b[0;32m   1041\u001b[0m             \u001b[1;31m# remaining jobs.\u001b[0m\u001b[1;33m\u001b[0m\u001b[1;33m\u001b[0m\u001b[0m\n\u001b[0;32m   1042\u001b[0m             \u001b[0mself\u001b[0m\u001b[1;33m.\u001b[0m\u001b[0m_iterating\u001b[0m \u001b[1;33m=\u001b[0m \u001b[1;32mFalse\u001b[0m\u001b[1;33m\u001b[0m\u001b[1;33m\u001b[0m\u001b[0m\n\u001b[1;32m-> 1043\u001b[1;33m             \u001b[1;32mif\u001b[0m \u001b[0mself\u001b[0m\u001b[1;33m.\u001b[0m\u001b[0mdispatch_one_batch\u001b[0m\u001b[1;33m(\u001b[0m\u001b[0miterator\u001b[0m\u001b[1;33m)\u001b[0m\u001b[1;33m:\u001b[0m\u001b[1;33m\u001b[0m\u001b[1;33m\u001b[0m\u001b[0m\n\u001b[0m\u001b[0;32m   1044\u001b[0m                 \u001b[0mself\u001b[0m\u001b[1;33m.\u001b[0m\u001b[0m_iterating\u001b[0m \u001b[1;33m=\u001b[0m \u001b[0mself\u001b[0m\u001b[1;33m.\u001b[0m\u001b[0m_original_iterator\u001b[0m \u001b[1;32mis\u001b[0m \u001b[1;32mnot\u001b[0m \u001b[1;32mNone\u001b[0m\u001b[1;33m\u001b[0m\u001b[1;33m\u001b[0m\u001b[0m\n\u001b[0;32m   1045\u001b[0m \u001b[1;33m\u001b[0m\u001b[0m\n",
      "\u001b[1;32mc:\\Users\\ZZH\\anaconda3\\lib\\site-packages\\joblib\\parallel.py\u001b[0m in \u001b[0;36mdispatch_one_batch\u001b[1;34m(self, iterator)\u001b[0m\n\u001b[0;32m    859\u001b[0m                 \u001b[1;32mreturn\u001b[0m \u001b[1;32mFalse\u001b[0m\u001b[1;33m\u001b[0m\u001b[1;33m\u001b[0m\u001b[0m\n\u001b[0;32m    860\u001b[0m             \u001b[1;32melse\u001b[0m\u001b[1;33m:\u001b[0m\u001b[1;33m\u001b[0m\u001b[1;33m\u001b[0m\u001b[0m\n\u001b[1;32m--> 861\u001b[1;33m                 \u001b[0mself\u001b[0m\u001b[1;33m.\u001b[0m\u001b[0m_dispatch\u001b[0m\u001b[1;33m(\u001b[0m\u001b[0mtasks\u001b[0m\u001b[1;33m)\u001b[0m\u001b[1;33m\u001b[0m\u001b[1;33m\u001b[0m\u001b[0m\n\u001b[0m\u001b[0;32m    862\u001b[0m                 \u001b[1;32mreturn\u001b[0m \u001b[1;32mTrue\u001b[0m\u001b[1;33m\u001b[0m\u001b[1;33m\u001b[0m\u001b[0m\n\u001b[0;32m    863\u001b[0m \u001b[1;33m\u001b[0m\u001b[0m\n",
      "\u001b[1;32mc:\\Users\\ZZH\\anaconda3\\lib\\site-packages\\joblib\\parallel.py\u001b[0m in \u001b[0;36m_dispatch\u001b[1;34m(self, batch)\u001b[0m\n\u001b[0;32m    777\u001b[0m         \u001b[1;32mwith\u001b[0m \u001b[0mself\u001b[0m\u001b[1;33m.\u001b[0m\u001b[0m_lock\u001b[0m\u001b[1;33m:\u001b[0m\u001b[1;33m\u001b[0m\u001b[1;33m\u001b[0m\u001b[0m\n\u001b[0;32m    778\u001b[0m             \u001b[0mjob_idx\u001b[0m \u001b[1;33m=\u001b[0m \u001b[0mlen\u001b[0m\u001b[1;33m(\u001b[0m\u001b[0mself\u001b[0m\u001b[1;33m.\u001b[0m\u001b[0m_jobs\u001b[0m\u001b[1;33m)\u001b[0m\u001b[1;33m\u001b[0m\u001b[1;33m\u001b[0m\u001b[0m\n\u001b[1;32m--> 779\u001b[1;33m             \u001b[0mjob\u001b[0m \u001b[1;33m=\u001b[0m \u001b[0mself\u001b[0m\u001b[1;33m.\u001b[0m\u001b[0m_backend\u001b[0m\u001b[1;33m.\u001b[0m\u001b[0mapply_async\u001b[0m\u001b[1;33m(\u001b[0m\u001b[0mbatch\u001b[0m\u001b[1;33m,\u001b[0m \u001b[0mcallback\u001b[0m\u001b[1;33m=\u001b[0m\u001b[0mcb\u001b[0m\u001b[1;33m)\u001b[0m\u001b[1;33m\u001b[0m\u001b[1;33m\u001b[0m\u001b[0m\n\u001b[0m\u001b[0;32m    780\u001b[0m             \u001b[1;31m# A job can complete so quickly than its callback is\u001b[0m\u001b[1;33m\u001b[0m\u001b[1;33m\u001b[0m\u001b[0m\n\u001b[0;32m    781\u001b[0m             \u001b[1;31m# called before we get here, causing self._jobs to\u001b[0m\u001b[1;33m\u001b[0m\u001b[1;33m\u001b[0m\u001b[0m\n",
      "\u001b[1;32mc:\\Users\\ZZH\\anaconda3\\lib\\site-packages\\joblib\\_parallel_backends.py\u001b[0m in \u001b[0;36mapply_async\u001b[1;34m(self, func, callback)\u001b[0m\n\u001b[0;32m    206\u001b[0m     \u001b[1;32mdef\u001b[0m \u001b[0mapply_async\u001b[0m\u001b[1;33m(\u001b[0m\u001b[0mself\u001b[0m\u001b[1;33m,\u001b[0m \u001b[0mfunc\u001b[0m\u001b[1;33m,\u001b[0m \u001b[0mcallback\u001b[0m\u001b[1;33m=\u001b[0m\u001b[1;32mNone\u001b[0m\u001b[1;33m)\u001b[0m\u001b[1;33m:\u001b[0m\u001b[1;33m\u001b[0m\u001b[1;33m\u001b[0m\u001b[0m\n\u001b[0;32m    207\u001b[0m         \u001b[1;34m\"\"\"Schedule a func to be run\"\"\"\u001b[0m\u001b[1;33m\u001b[0m\u001b[1;33m\u001b[0m\u001b[0m\n\u001b[1;32m--> 208\u001b[1;33m         \u001b[0mresult\u001b[0m \u001b[1;33m=\u001b[0m \u001b[0mImmediateResult\u001b[0m\u001b[1;33m(\u001b[0m\u001b[0mfunc\u001b[0m\u001b[1;33m)\u001b[0m\u001b[1;33m\u001b[0m\u001b[1;33m\u001b[0m\u001b[0m\n\u001b[0m\u001b[0;32m    209\u001b[0m         \u001b[1;32mif\u001b[0m \u001b[0mcallback\u001b[0m\u001b[1;33m:\u001b[0m\u001b[1;33m\u001b[0m\u001b[1;33m\u001b[0m\u001b[0m\n\u001b[0;32m    210\u001b[0m             \u001b[0mcallback\u001b[0m\u001b[1;33m(\u001b[0m\u001b[0mresult\u001b[0m\u001b[1;33m)\u001b[0m\u001b[1;33m\u001b[0m\u001b[1;33m\u001b[0m\u001b[0m\n",
      "\u001b[1;32mc:\\Users\\ZZH\\anaconda3\\lib\\site-packages\\joblib\\_parallel_backends.py\u001b[0m in \u001b[0;36m__init__\u001b[1;34m(self, batch)\u001b[0m\n\u001b[0;32m    570\u001b[0m         \u001b[1;31m# Don't delay the application, to avoid keeping the input\u001b[0m\u001b[1;33m\u001b[0m\u001b[1;33m\u001b[0m\u001b[0m\n\u001b[0;32m    571\u001b[0m         \u001b[1;31m# arguments in memory\u001b[0m\u001b[1;33m\u001b[0m\u001b[1;33m\u001b[0m\u001b[0m\n\u001b[1;32m--> 572\u001b[1;33m         \u001b[0mself\u001b[0m\u001b[1;33m.\u001b[0m\u001b[0mresults\u001b[0m \u001b[1;33m=\u001b[0m \u001b[0mbatch\u001b[0m\u001b[1;33m(\u001b[0m\u001b[1;33m)\u001b[0m\u001b[1;33m\u001b[0m\u001b[1;33m\u001b[0m\u001b[0m\n\u001b[0m\u001b[0;32m    573\u001b[0m \u001b[1;33m\u001b[0m\u001b[0m\n\u001b[0;32m    574\u001b[0m     \u001b[1;32mdef\u001b[0m \u001b[0mget\u001b[0m\u001b[1;33m(\u001b[0m\u001b[0mself\u001b[0m\u001b[1;33m)\u001b[0m\u001b[1;33m:\u001b[0m\u001b[1;33m\u001b[0m\u001b[1;33m\u001b[0m\u001b[0m\n",
      "\u001b[1;32mc:\\Users\\ZZH\\anaconda3\\lib\\site-packages\\joblib\\parallel.py\u001b[0m in \u001b[0;36m__call__\u001b[1;34m(self)\u001b[0m\n\u001b[0;32m    260\u001b[0m         \u001b[1;31m# change the default number of processes to -1\u001b[0m\u001b[1;33m\u001b[0m\u001b[1;33m\u001b[0m\u001b[0m\n\u001b[0;32m    261\u001b[0m         \u001b[1;32mwith\u001b[0m \u001b[0mparallel_backend\u001b[0m\u001b[1;33m(\u001b[0m\u001b[0mself\u001b[0m\u001b[1;33m.\u001b[0m\u001b[0m_backend\u001b[0m\u001b[1;33m,\u001b[0m \u001b[0mn_jobs\u001b[0m\u001b[1;33m=\u001b[0m\u001b[0mself\u001b[0m\u001b[1;33m.\u001b[0m\u001b[0m_n_jobs\u001b[0m\u001b[1;33m)\u001b[0m\u001b[1;33m:\u001b[0m\u001b[1;33m\u001b[0m\u001b[1;33m\u001b[0m\u001b[0m\n\u001b[1;32m--> 262\u001b[1;33m             return [func(*args, **kwargs)\n\u001b[0m\u001b[0;32m    263\u001b[0m                     for func, args, kwargs in self.items]\n\u001b[0;32m    264\u001b[0m \u001b[1;33m\u001b[0m\u001b[0m\n",
      "\u001b[1;32mc:\\Users\\ZZH\\anaconda3\\lib\\site-packages\\joblib\\parallel.py\u001b[0m in \u001b[0;36m<listcomp>\u001b[1;34m(.0)\u001b[0m\n\u001b[0;32m    260\u001b[0m         \u001b[1;31m# change the default number of processes to -1\u001b[0m\u001b[1;33m\u001b[0m\u001b[1;33m\u001b[0m\u001b[0m\n\u001b[0;32m    261\u001b[0m         \u001b[1;32mwith\u001b[0m \u001b[0mparallel_backend\u001b[0m\u001b[1;33m(\u001b[0m\u001b[0mself\u001b[0m\u001b[1;33m.\u001b[0m\u001b[0m_backend\u001b[0m\u001b[1;33m,\u001b[0m \u001b[0mn_jobs\u001b[0m\u001b[1;33m=\u001b[0m\u001b[0mself\u001b[0m\u001b[1;33m.\u001b[0m\u001b[0m_n_jobs\u001b[0m\u001b[1;33m)\u001b[0m\u001b[1;33m:\u001b[0m\u001b[1;33m\u001b[0m\u001b[1;33m\u001b[0m\u001b[0m\n\u001b[1;32m--> 262\u001b[1;33m             return [func(*args, **kwargs)\n\u001b[0m\u001b[0;32m    263\u001b[0m                     for func, args, kwargs in self.items]\n\u001b[0;32m    264\u001b[0m \u001b[1;33m\u001b[0m\u001b[0m\n",
      "\u001b[1;32mc:\\Users\\ZZH\\anaconda3\\lib\\site-packages\\sklearn\\utils\\fixes.py\u001b[0m in \u001b[0;36m__call__\u001b[1;34m(self, *args, **kwargs)\u001b[0m\n\u001b[0;32m    214\u001b[0m     \u001b[1;32mdef\u001b[0m \u001b[0m__call__\u001b[0m\u001b[1;33m(\u001b[0m\u001b[0mself\u001b[0m\u001b[1;33m,\u001b[0m \u001b[1;33m*\u001b[0m\u001b[0margs\u001b[0m\u001b[1;33m,\u001b[0m \u001b[1;33m**\u001b[0m\u001b[0mkwargs\u001b[0m\u001b[1;33m)\u001b[0m\u001b[1;33m:\u001b[0m\u001b[1;33m\u001b[0m\u001b[1;33m\u001b[0m\u001b[0m\n\u001b[0;32m    215\u001b[0m         \u001b[1;32mwith\u001b[0m \u001b[0mconfig_context\u001b[0m\u001b[1;33m(\u001b[0m\u001b[1;33m**\u001b[0m\u001b[0mself\u001b[0m\u001b[1;33m.\u001b[0m\u001b[0mconfig\u001b[0m\u001b[1;33m)\u001b[0m\u001b[1;33m:\u001b[0m\u001b[1;33m\u001b[0m\u001b[1;33m\u001b[0m\u001b[0m\n\u001b[1;32m--> 216\u001b[1;33m             \u001b[1;32mreturn\u001b[0m \u001b[0mself\u001b[0m\u001b[1;33m.\u001b[0m\u001b[0mfunction\u001b[0m\u001b[1;33m(\u001b[0m\u001b[1;33m*\u001b[0m\u001b[0margs\u001b[0m\u001b[1;33m,\u001b[0m \u001b[1;33m**\u001b[0m\u001b[0mkwargs\u001b[0m\u001b[1;33m)\u001b[0m\u001b[1;33m\u001b[0m\u001b[1;33m\u001b[0m\u001b[0m\n\u001b[0m\u001b[0;32m    217\u001b[0m \u001b[1;33m\u001b[0m\u001b[0m\n\u001b[0;32m    218\u001b[0m \u001b[1;33m\u001b[0m\u001b[0m\n",
      "\u001b[1;32mc:\\Users\\ZZH\\anaconda3\\lib\\site-packages\\sklearn\\linear_model\\_logistic.py\u001b[0m in \u001b[0;36m_logistic_regression_path\u001b[1;34m(X, y, pos_class, Cs, fit_intercept, max_iter, tol, verbose, solver, coef, class_weight, dual, penalty, intercept_scaling, multi_class, random_state, check_input, max_squared_sum, sample_weight, l1_ratio)\u001b[0m\n\u001b[0;32m    804\u001b[0m                 \u001b[0mnp\u001b[0m\u001b[1;33m.\u001b[0m\u001b[0msearchsorted\u001b[0m\u001b[1;33m(\u001b[0m\u001b[0mnp\u001b[0m\u001b[1;33m.\u001b[0m\u001b[0marray\u001b[0m\u001b[1;33m(\u001b[0m\u001b[1;33m[\u001b[0m\u001b[1;36m0\u001b[0m\u001b[1;33m,\u001b[0m \u001b[1;36m1\u001b[0m\u001b[1;33m,\u001b[0m \u001b[1;36m2\u001b[0m\u001b[1;33m,\u001b[0m \u001b[1;36m3\u001b[0m\u001b[1;33m]\u001b[0m\u001b[1;33m)\u001b[0m\u001b[1;33m,\u001b[0m \u001b[0mverbose\u001b[0m\u001b[1;33m)\u001b[0m\u001b[1;33m\u001b[0m\u001b[1;33m\u001b[0m\u001b[0m\n\u001b[0;32m    805\u001b[0m             ]\n\u001b[1;32m--> 806\u001b[1;33m             opt_res = optimize.minimize(\n\u001b[0m\u001b[0;32m    807\u001b[0m                 \u001b[0mfunc\u001b[0m\u001b[1;33m,\u001b[0m\u001b[1;33m\u001b[0m\u001b[1;33m\u001b[0m\u001b[0m\n\u001b[0;32m    808\u001b[0m                 \u001b[0mw0\u001b[0m\u001b[1;33m,\u001b[0m\u001b[1;33m\u001b[0m\u001b[1;33m\u001b[0m\u001b[0m\n",
      "\u001b[1;32mc:\\Users\\ZZH\\anaconda3\\lib\\site-packages\\scipy\\optimize\\_minimize.py\u001b[0m in \u001b[0;36mminimize\u001b[1;34m(fun, x0, args, method, jac, hess, hessp, bounds, constraints, tol, callback, options)\u001b[0m\n\u001b[0;32m    697\u001b[0m                                  **options)\n\u001b[0;32m    698\u001b[0m     \u001b[1;32melif\u001b[0m \u001b[0mmeth\u001b[0m \u001b[1;33m==\u001b[0m \u001b[1;34m'l-bfgs-b'\u001b[0m\u001b[1;33m:\u001b[0m\u001b[1;33m\u001b[0m\u001b[1;33m\u001b[0m\u001b[0m\n\u001b[1;32m--> 699\u001b[1;33m         res = _minimize_lbfgsb(fun, x0, args, jac, bounds,\n\u001b[0m\u001b[0;32m    700\u001b[0m                                callback=callback, **options)\n\u001b[0;32m    701\u001b[0m     \u001b[1;32melif\u001b[0m \u001b[0mmeth\u001b[0m \u001b[1;33m==\u001b[0m \u001b[1;34m'tnc'\u001b[0m\u001b[1;33m:\u001b[0m\u001b[1;33m\u001b[0m\u001b[1;33m\u001b[0m\u001b[0m\n",
      "\u001b[1;32mc:\\Users\\ZZH\\anaconda3\\lib\\site-packages\\scipy\\optimize\\_lbfgsb_py.py\u001b[0m in \u001b[0;36m_minimize_lbfgsb\u001b[1;34m(fun, x0, args, jac, bounds, disp, maxcor, ftol, gtol, eps, maxfun, maxiter, iprint, callback, maxls, finite_diff_rel_step, **unknown_options)\u001b[0m\n\u001b[0;32m    287\u001b[0m \u001b[1;33m\u001b[0m\u001b[0m\n\u001b[0;32m    288\u001b[0m     \u001b[1;31m# unbounded variables must use None, not +-inf, for optimizer to work properly\u001b[0m\u001b[1;33m\u001b[0m\u001b[1;33m\u001b[0m\u001b[0m\n\u001b[1;32m--> 289\u001b[1;33m     \u001b[0mbounds\u001b[0m \u001b[1;33m=\u001b[0m \u001b[1;33m[\u001b[0m\u001b[1;33m(\u001b[0m\u001b[1;32mNone\u001b[0m \u001b[1;32mif\u001b[0m \u001b[0ml\u001b[0m \u001b[1;33m==\u001b[0m \u001b[1;33m-\u001b[0m\u001b[0mnp\u001b[0m\u001b[1;33m.\u001b[0m\u001b[0minf\u001b[0m \u001b[1;32melse\u001b[0m \u001b[0ml\u001b[0m\u001b[1;33m,\u001b[0m \u001b[1;32mNone\u001b[0m \u001b[1;32mif\u001b[0m \u001b[0mu\u001b[0m \u001b[1;33m==\u001b[0m \u001b[0mnp\u001b[0m\u001b[1;33m.\u001b[0m\u001b[0minf\u001b[0m \u001b[1;32melse\u001b[0m \u001b[0mu\u001b[0m\u001b[1;33m)\u001b[0m \u001b[1;32mfor\u001b[0m \u001b[0ml\u001b[0m\u001b[1;33m,\u001b[0m \u001b[0mu\u001b[0m \u001b[1;32min\u001b[0m \u001b[0mbounds\u001b[0m\u001b[1;33m]\u001b[0m\u001b[1;33m\u001b[0m\u001b[1;33m\u001b[0m\u001b[0m\n\u001b[0m\u001b[0;32m    290\u001b[0m     \u001b[1;31m# LBFGSB is sent 'old-style' bounds, 'new-style' bounds are required by\u001b[0m\u001b[1;33m\u001b[0m\u001b[1;33m\u001b[0m\u001b[0m\n\u001b[0;32m    291\u001b[0m     \u001b[1;31m# approx_derivative and ScalarFunction\u001b[0m\u001b[1;33m\u001b[0m\u001b[1;33m\u001b[0m\u001b[0m\n",
      "\u001b[1;32mc:\\Users\\ZZH\\anaconda3\\lib\\site-packages\\scipy\\optimize\\_lbfgsb_py.py\u001b[0m in \u001b[0;36m<listcomp>\u001b[1;34m(.0)\u001b[0m\n\u001b[0;32m    287\u001b[0m \u001b[1;33m\u001b[0m\u001b[0m\n\u001b[0;32m    288\u001b[0m     \u001b[1;31m# unbounded variables must use None, not +-inf, for optimizer to work properly\u001b[0m\u001b[1;33m\u001b[0m\u001b[1;33m\u001b[0m\u001b[0m\n\u001b[1;32m--> 289\u001b[1;33m     \u001b[0mbounds\u001b[0m \u001b[1;33m=\u001b[0m \u001b[1;33m[\u001b[0m\u001b[1;33m(\u001b[0m\u001b[1;32mNone\u001b[0m \u001b[1;32mif\u001b[0m \u001b[0ml\u001b[0m \u001b[1;33m==\u001b[0m \u001b[1;33m-\u001b[0m\u001b[0mnp\u001b[0m\u001b[1;33m.\u001b[0m\u001b[0minf\u001b[0m \u001b[1;32melse\u001b[0m \u001b[0ml\u001b[0m\u001b[1;33m,\u001b[0m \u001b[1;32mNone\u001b[0m \u001b[1;32mif\u001b[0m \u001b[0mu\u001b[0m \u001b[1;33m==\u001b[0m \u001b[0mnp\u001b[0m\u001b[1;33m.\u001b[0m\u001b[0minf\u001b[0m \u001b[1;32melse\u001b[0m \u001b[0mu\u001b[0m\u001b[1;33m)\u001b[0m \u001b[1;32mfor\u001b[0m \u001b[0ml\u001b[0m\u001b[1;33m,\u001b[0m \u001b[0mu\u001b[0m \u001b[1;32min\u001b[0m \u001b[0mbounds\u001b[0m\u001b[1;33m]\u001b[0m\u001b[1;33m\u001b[0m\u001b[1;33m\u001b[0m\u001b[0m\n\u001b[0m\u001b[0;32m    290\u001b[0m     \u001b[1;31m# LBFGSB is sent 'old-style' bounds, 'new-style' bounds are required by\u001b[0m\u001b[1;33m\u001b[0m\u001b[1;33m\u001b[0m\u001b[0m\n\u001b[0;32m    291\u001b[0m     \u001b[1;31m# approx_derivative and ScalarFunction\u001b[0m\u001b[1;33m\u001b[0m\u001b[1;33m\u001b[0m\u001b[0m\n",
      "\u001b[1;31mMemoryError\u001b[0m: "
     ]
    }
   ],
   "source": [
    "'''from sklearn.linear_model import LogisticRegression\n",
    "lr = LogisticRegression(multi_class='multinomial').fit(X_train_tfidf, y_train)\n",
    "pred2 = lr.predict(X_test_tfidf)\n",
    "accuracy2 = metrics.accuracy_score(y_test, pred2)\n",
    "print(accuracy2)'''"
   ]
  },
  {
   "cell_type": "code",
   "execution_count": 17,
   "metadata": {},
   "outputs": [
    {
     "data": {
      "text/plain": [
       "'mnb = MultinomialNB().fit(X_train_tfidf, y_train)\\npred1 = mnb.predict(X_test_tfidf)\\naccuracy1 = metrics.accuracy_score(y_test, pred1)\\nprint(accuracy1)'"
      ]
     },
     "execution_count": 17,
     "metadata": {},
     "output_type": "execute_result"
    }
   ],
   "source": [
    "# Naive bayes\n",
    "from sklearn.naive_bayes import MultinomialNB\n",
    "mnb = MultinomialNB().fit(X_train_tfidf, y_train)\n",
    "pred1 = mnb.predict(X_test_tfidf)\n",
    "accuracy1 = metrics.accuracy_score(y_test, pred1)\n",
    "print(accuracy1)"
   ]
  },
  {
   "cell_type": "code",
   "execution_count": 18,
   "metadata": {},
   "outputs": [
    {
     "name": "stdout",
     "output_type": "stream",
     "text": [
      "0.8113412228796845\n"
     ]
    }
   ],
   "source": [
    "mnb = MultinomialNB(alpha = 0.1).fit(X_train_tfidf, y_train)\n",
    "pred1 = mnb.predict(X_test_tfidf)\n",
    "accuracy1 = metrics.accuracy_score(y_test, pred1)\n",
    "print(accuracy1)"
   ]
  },
  {
   "cell_type": "code",
   "execution_count": 19,
   "metadata": {},
   "outputs": [
    {
     "data": {
      "text/plain": [
       "'mnb = MultinomialNB(alpha = 2).fit(X_train_tfidf, y_train)\\npred1 = mnb.predict(X_test_tfidf)\\naccuracy1 = metrics.accuracy_score(y_test, pred1)\\nprint(accuracy1)'"
      ]
     },
     "execution_count": 19,
     "metadata": {},
     "output_type": "execute_result"
    }
   ],
   "source": [
    "'''mnb = MultinomialNB(alpha = 2).fit(X_train_tfidf, y_train)\n",
    "pred1 = mnb.predict(X_test_tfidf)\n",
    "accuracy1 = metrics.accuracy_score(y_test, pred1)\n",
    "print(accuracy1)'''"
   ]
  },
  {
   "cell_type": "code",
   "execution_count": 20,
   "metadata": {},
   "outputs": [
    {
     "data": {
      "text/plain": [
       "'mnb = MultinomialNB(alpha = 0.01).fit(X_train_tfidf, y_train)\\npred1 = mnb.predict(X_test_tfidf)\\naccuracy1 = metrics.accuracy_score(y_test, pred1)\\nprint(accuracy1)'"
      ]
     },
     "execution_count": 20,
     "metadata": {},
     "output_type": "execute_result"
    }
   ],
   "source": [
    "'''mnb = MultinomialNB(alpha = 0.01).fit(X_train_tfidf, y_train)\n",
    "pred1 = mnb.predict(X_test_tfidf)\n",
    "accuracy1 = metrics.accuracy_score(y_test, pred1)\n",
    "print(accuracy1)'''"
   ]
  },
  {
   "cell_type": "code",
   "execution_count": 21,
   "metadata": {},
   "outputs": [
    {
     "data": {
      "text/plain": [
       "'mnb = MultinomialNB(alpha = 0.02).fit(X_train_tfidf, y_train)\\npred1 = mnb.predict(X_test_tfidf)\\naccuracy1 = metrics.accuracy_score(y_test, pred1)\\nprint(accuracy1)'"
      ]
     },
     "execution_count": 21,
     "metadata": {},
     "output_type": "execute_result"
    }
   ],
   "source": [
    "'''mnb = MultinomialNB(alpha = 0.02).fit(X_train_tfidf, y_train)\n",
    "pred1 = mnb.predict(X_test_tfidf)\n",
    "accuracy1 = metrics.accuracy_score(y_test, pred1)\n",
    "print(accuracy1)'''"
   ]
  },
  {
   "cell_type": "code",
   "execution_count": 22,
   "metadata": {},
   "outputs": [
    {
     "data": {
      "text/plain": [
       "'mnb = MultinomialNB(alpha = 0.2).fit(X_train_tfidf, y_train)\\npred1 = mnb.predict(X_test_tfidf)\\naccuracy1 = metrics.accuracy_score(y_test, pred1)\\nprint(accuracy1)'"
      ]
     },
     "execution_count": 22,
     "metadata": {},
     "output_type": "execute_result"
    }
   ],
   "source": [
    "'''mnb = MultinomialNB(alpha = 0.2).fit(X_train_tfidf, y_train)\n",
    "pred1 = mnb.predict(X_test_tfidf)\n",
    "accuracy1 = metrics.accuracy_score(y_test, pred1)\n",
    "print(accuracy1)'''"
   ]
  },
  {
   "cell_type": "code",
   "execution_count": 23,
   "metadata": {},
   "outputs": [
    {
     "data": {
      "text/plain": [
       "'mnb = MultinomialNB(alpha = 0.3).fit(X_train_tfidf, y_train)\\npred1 = mnb.predict(X_test_tfidf)\\naccuracy1 = metrics.accuracy_score(y_test, pred1)\\nprint(accuracy1)'"
      ]
     },
     "execution_count": 23,
     "metadata": {},
     "output_type": "execute_result"
    }
   ],
   "source": [
    "'''mnb = MultinomialNB(alpha = 0.3).fit(X_train_tfidf, y_train)\n",
    "pred1 = mnb.predict(X_test_tfidf)\n",
    "accuracy1 = metrics.accuracy_score(y_test, pred1)\n",
    "print(accuracy1)'''"
   ]
  },
  {
   "cell_type": "code",
   "execution_count": 24,
   "metadata": {},
   "outputs": [
    {
     "data": {
      "text/plain": [
       "'mnb = MultinomialNB(alpha = 0.11).fit(X_train_tfidf, y_train)\\npred1 = mnb.predict(X_test_tfidf)\\naccuracy1 = metrics.accuracy_score(y_test, pred1)\\nprint(accuracy1)'"
      ]
     },
     "execution_count": 24,
     "metadata": {},
     "output_type": "execute_result"
    }
   ],
   "source": [
    "'''mnb = MultinomialNB(alpha = 0.11).fit(X_train_tfidf, y_train)\n",
    "pred1 = mnb.predict(X_test_tfidf)\n",
    "accuracy1 = metrics.accuracy_score(y_test, pred1)\n",
    "print(accuracy1)'''"
   ]
  },
  {
   "cell_type": "code",
   "execution_count": 25,
   "metadata": {},
   "outputs": [
    {
     "data": {
      "text/plain": [
       "'mnb = MultinomialNB(alpha = 0.09).fit(X_train_tfidf, y_train)\\npred1 = mnb.predict(X_test_tfidf)\\naccuracy1 = metrics.accuracy_score(y_test, pred1)\\nprint(accuracy1)'"
      ]
     },
     "execution_count": 25,
     "metadata": {},
     "output_type": "execute_result"
    }
   ],
   "source": [
    "'''mnb = MultinomialNB(alpha = 0.09).fit(X_train_tfidf, y_train)\n",
    "pred1 = mnb.predict(X_test_tfidf)\n",
    "accuracy1 = metrics.accuracy_score(y_test, pred1)\n",
    "print(accuracy1)'''"
   ]
  },
  {
   "cell_type": "code",
   "execution_count": 26,
   "metadata": {},
   "outputs": [
    {
     "data": {
      "text/plain": [
       "'predict_confident = mnb.predict_proba(X_test_tfidf)'"
      ]
     },
     "execution_count": 26,
     "metadata": {},
     "output_type": "execute_result"
    }
   ],
   "source": [
    "\n",
    "'''predict_confident = mnb.predict_proba(X_test_tfidf)'''\n"
   ]
  },
  {
   "cell_type": "code",
   "execution_count": 27,
   "metadata": {},
   "outputs": [
    {
     "data": {
      "text/plain": [
       "'len(predict_confident[1])'"
      ]
     },
     "execution_count": 27,
     "metadata": {},
     "output_type": "execute_result"
    }
   ],
   "source": [
    "'''len(predict_confident[1])'''"
   ]
  },
  {
   "cell_type": "code",
   "execution_count": 28,
   "metadata": {},
   "outputs": [
    {
     "data": {
      "text/plain": [
       "\"from sklearn.svm import SVC\\n\\nsvc = SVC(kernel='linear').fit(X_train_tfidf, y_train)\\npred2 = svc.predict(X_test_tfidf)\\naccuracy2 = metrics.accuracy_score(y_test, pred2)\\nprint(accuracy2)\""
      ]
     },
     "execution_count": 28,
     "metadata": {},
     "output_type": "execute_result"
    }
   ],
   "source": [
    "'''from sklearn.svm import SVC\n",
    "\n",
    "svc = SVC(kernel='linear').fit(X_train_tfidf, y_train)\n",
    "pred2 = svc.predict(X_test_tfidf)\n",
    "accuracy2 = metrics.accuracy_score(y_test, pred2)\n",
    "print(accuracy2)'''"
   ]
  },
  {
   "cell_type": "code",
   "execution_count": 29,
   "metadata": {},
   "outputs": [
    {
     "data": {
      "text/plain": [
       "'from sklearn.neural_network import MLPClassifier\\n\\nmlp = MLPClassifier().fit(X_train_tfidf, y_train)\\npred3 = mlp.predict(X_test_tfidf)\\naccuracy3 = metrics.accuracy_score(y_test, pred3)\\nprint(accuracy3)'"
      ]
     },
     "execution_count": 29,
     "metadata": {},
     "output_type": "execute_result"
    }
   ],
   "source": [
    "'''from sklearn.neural_network import MLPClassifier\n",
    "\n",
    "mlp = MLPClassifier().fit(X_train_tfidf, y_train)\n",
    "pred3 = mlp.predict(X_test_tfidf)\n",
    "accuracy3 = metrics.accuracy_score(y_test, pred3)\n",
    "print(accuracy3)'''"
   ]
  },
  {
   "cell_type": "code",
   "execution_count": 30,
   "metadata": {},
   "outputs": [
    {
     "data": {
      "text/plain": [
       "\"from bayes_opt import BayesianOptimization\\nfrom scipy.stats import uniform\\n# define values to search\\npbounds = {'alpha': (0.1, 1, 2, 3)}\\n# define the grid search procedure\\nmnb_tuning = BayesianOptimization(f=evaluate, pbounds=pbounds, n_jobs = -1)\\nmnb_tuning.fit(X_train_tfidf, y_train)\\nprint(mnb_tuning.best_params_)\""
      ]
     },
     "execution_count": 30,
     "metadata": {},
     "output_type": "execute_result"
    }
   ],
   "source": [
    "# tune the parameters by BayesianOptimization     RandomizedSearchCV,GridSearchCV---can not use because there is only 1 sample in each class, there should be at least 2 samples in each class (n_splits = 2)\n",
    "'''from bayes_opt import BayesianOptimization\n",
    "from scipy.stats import uniform\n",
    "# define values to search\n",
    "pbounds = {'alpha': (0.1, 1, 2, 3)}\n",
    "# define the grid search procedure\n",
    "mnb_tuning = BayesianOptimization(f=evaluate, pbounds=pbounds, n_jobs = -1)\n",
    "mnb_tuning.fit(X_train_tfidf, y_train)\n",
    "print(mnb_tuning.best_params_)'''"
   ]
  },
  {
   "cell_type": "code",
   "execution_count": 31,
   "metadata": {},
   "outputs": [
    {
     "data": {
      "text/plain": [
       "'final_pred = mnb.predict(X_test_tfidf)\\naccuracy_final = metrics.accuracy_score(y_test, final_pred)\\nprint(accuracy1)'"
      ]
     },
     "execution_count": 31,
     "metadata": {},
     "output_type": "execute_result"
    }
   ],
   "source": [
    "'''final_pred = mnb.predict(X_test_tfidf)\n",
    "accuracy_final = metrics.accuracy_score(y_test, final_pred)\n",
    "print(accuracy1)'''"
   ]
  }
 ],
 "metadata": {
  "kernelspec": {
   "display_name": "base",
   "language": "python",
   "name": "python3"
  },
  "language_info": {
   "codemirror_mode": {
    "name": "ipython",
    "version": 3
   },
   "file_extension": ".py",
   "mimetype": "text/x-python",
   "name": "python",
   "nbconvert_exporter": "python",
   "pygments_lexer": "ipython3",
   "version": "3.9.13"
  },
  "orig_nbformat": 4
 },
 "nbformat": 4,
 "nbformat_minor": 2
}
